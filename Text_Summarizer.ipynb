{
  "nbformat": 4,
  "nbformat_minor": 0,
  "metadata": {
    "colab": {
      "name": "Text Summarizer.ipynb",
      "provenance": []
    },
    "kernelspec": {
      "name": "python3",
      "display_name": "Python 3"
    },
    "language_info": {
      "name": "python"
    }
  },
  "cells": [
    {
      "cell_type": "code",
      "source": [
        "!pip install -q streamlit\n",
        "!pip install pyngrok "
      ],
      "metadata": {
        "colab": {
          "base_uri": "https://localhost:8080/"
        },
        "id": "j8ckVNX_gLmp",
        "outputId": "347b759d-3626-4d4d-acdc-b70a73e93352"
      },
      "execution_count": 59,
      "outputs": [
        {
          "output_type": "stream",
          "name": "stdout",
          "text": [
            "Looking in indexes: https://pypi.org/simple, https://us-python.pkg.dev/colab-wheels/public/simple/\n",
            "Requirement already satisfied: pyngrok in /usr/local/lib/python3.7/dist-packages (5.1.0)\n",
            "Requirement already satisfied: PyYAML in /usr/local/lib/python3.7/dist-packages (from pyngrok) (3.13)\n"
          ]
        }
      ]
    },
    {
      "cell_type": "code",
      "execution_count": 61,
      "metadata": {
        "id": "0zZ4jy5kfuD7"
      },
      "outputs": [],
      "source": [
        "#!wget https://raw.githubusercontent.com/Mayank1833/Text-Summarizer/main/untitled2.py?token=GHSAT0AAAAAABXA64JOO62CIX6BXPB7V3RAYXBAOCA"
      ]
    },
    {
      "cell_type": "code",
      "source": [
        "%%writefile textsummarizer.py\n",
        "\n",
        "import re\n",
        "import streamlit as st\n",
        "\n",
        "#NLTK Packages\n",
        "import nltk\n",
        "#nltk.download('all')\n",
        "from nltk.corpus import stopwords\n",
        "from nltk.tokenize import word_tokenize, sent_tokenize\n",
        "\n",
        "#SPACY Packages\n",
        "import spacy\n",
        "from spacy.lang.en.stop_words import STOP_WORDS\n",
        "\n",
        "#Function for NLTK\n",
        "def nltk_summarizer(docx):\n",
        "    stopWords = set(stopwords.words(\"english\"))\n",
        "    words = word_tokenize(docx)\n",
        "    freqTable = dict()\n",
        "\n",
        "    for word in words:\n",
        "        word = word.lower()\n",
        "        if word not in stopWords:\n",
        "            if word in freqTable:\n",
        "                freqTable[word] += 1\n",
        "            else:\n",
        "                freqTable[word] = 1\n",
        "\n",
        "    sentence_list= sent_tokenize(docx)\n",
        "    #sentenceValue = dict()\n",
        "    max_freq = max(freqTable.values())\n",
        "    for word in freqTable.keys():\n",
        "        freqTable[word] = (freqTable[word]/max_freq)\n",
        "\n",
        "    sentence_scores = {}\n",
        "    for sent in sentence_list:\n",
        "        for word in nltk.word_tokenize(sent.lower()):\n",
        "            if word in freqTable.keys():\n",
        "                if len(sent.split(' ')) < 30:\n",
        "                    if sent not in sentence_scores.keys():\n",
        "                        sentence_scores[sent] = freqTable[word]\n",
        "                    else:\n",
        "                        sentence_scores[sent] += freqTable[word]#total number of length of words\n",
        "\n",
        "    import heapq\n",
        "    summary_sentences = heapq.nlargest(8, sentence_scores, key=sentence_scores.get)\n",
        "    summary = ' '.join(summary_sentences)\n",
        "    return summary\n",
        "\n",
        "#Function for SPACY\n",
        "def spacy_summarizer(docx):\n",
        "    #nlp=spacy.load('en_core_web_lg')\n",
        "    #docx=nlp(docx)\n",
        "    stopWords = list(STOP_WORDS)\n",
        "    words = word_tokenize(docx)\n",
        "    freqTable = dict()\n",
        "\n",
        "    for word in words:\n",
        "        word = word.lower()\n",
        "        if word not in stopWords:\n",
        "            if word in freqTable:\n",
        "                freqTable[word] += 1\n",
        "            else:\n",
        "                freqTable[word] = 1\n",
        "\n",
        "    sentence_list= sent_tokenize(docx)\n",
        "    #sentenceValue = dict()\n",
        "    max_freq = max(freqTable.values())\n",
        "    for word in freqTable.keys():\n",
        "        freqTable[word] = (freqTable[word]/max_freq)\n",
        "\n",
        "    sentence_scores = {}\n",
        "    for sent in sentence_list:\n",
        "        for word in nltk.word_tokenize(sent.lower()):\n",
        "            if word in freqTable.keys():\n",
        "                if len(sent.split(' ')) < 30:\n",
        "                    if sent not in sentence_scores.keys():\n",
        "                        sentence_scores[sent] = freqTable[word]\n",
        "                    else:\n",
        "                        sentence_scores[sent] += freqTable[word]#total number of length of words\n",
        "\n",
        "    import heapq\n",
        "    summary_sentences = heapq.nlargest(8, sentence_scores, key=sentence_scores.get)\n",
        "    summary = ' '.join(summary_sentences)\n",
        "    return summary\n",
        "\n",
        "def main():\n",
        "    st.title(\"Text Summarizer App\")\n",
        "    activities = [\"Summarize Via Text\"]\n",
        "    choice = st.sidebar.selectbox(\"Select Activity\", activities)\n",
        "\n",
        "    if choice == 'Summarize Via Text':\n",
        "        st.subheader(\"Summary using NLP\")\n",
        "        article_text = st.text_area(\"Enter Text Here\",\"Type here\")\n",
        "        #cleaning of input text\n",
        "        article_text = re.sub(r'\\\\[[0-9]*\\\\]', ' ',article_text)\n",
        "        article_text = re.sub('[^a-zA-Z.,]', ' ',article_text)\n",
        "        article_text = re.sub(r\"\\b[a-zA-Z]\\b\",'',article_text)\n",
        "        article_text = re.sub(\"[A-Z]\\Z\",'',article_text)\n",
        "        article_text = re.sub(r'\\s+', ' ', article_text)\n",
        "\n",
        "        summary_choice = st.selectbox(\"Summary Choice\" , [\"NLTK\",\"SPACY\"])\n",
        "        if st.button(\"Summarize Via Text\"):\n",
        "            if summary_choice == 'NLTK':\n",
        "                summary_result = nltk_summarizer(article_text)\n",
        "            elif summary_choice == 'SPACY':\n",
        "                summary_result = spacy_summarizer(article_text)\n",
        "\n",
        "            st.write(summary_result)\n",
        "\n",
        "\n",
        "if __name__=='__main__':\n",
        "\tmain()"
      ],
      "metadata": {
        "colab": {
          "base_uri": "https://localhost:8080/"
        },
        "id": "6K03lzm-FKo6",
        "outputId": "6378196e-3b91-48dd-f055-de17abd1fc35"
      },
      "execution_count": 65,
      "outputs": [
        {
          "output_type": "stream",
          "name": "stdout",
          "text": [
            "Overwriting textsummarizer.py\n"
          ]
        }
      ]
    },
    {
      "cell_type": "code",
      "source": [
        "from pyngrok import ngrok \n",
        "!ngrok authtoken 2CW71ABBpzh2kVtzCKDjBqRmYcj_g8Aei3bWGo8QyJJ4NWLy\n",
        "#!nohup streamlit run textsummarizer.py & \n",
        "\n",
        "url = ngrok.connect(port = 8501)\n",
        "url #generates our URL\n",
        "\n",
        "!streamlit run --server.port 80 textsummarizer.py >/dev/null #used for starting our server"
      ],
      "metadata": {
        "colab": {
          "base_uri": "https://localhost:8080/"
        },
        "id": "ZKQMW6puqkv_",
        "outputId": "3844b332-0612-4f8b-9ec0-1e5d31c5d0a8"
      },
      "execution_count": null,
      "outputs": [
        {
          "output_type": "stream",
          "name": "stdout",
          "text": [
            "Authtoken saved to configuration file: /root/.ngrok2/ngrok.yml\n"
          ]
        },
        {
          "output_type": "stream",
          "name": "stderr",
          "text": [
            "INFO:pyngrok.ngrok:Opening tunnel named: http-80-afbfb9aa-e0bc-4607-a2b1-be2a5cf68c96\n",
            "2022-07-27 09:58:08.256 INFO    pyngrok.ngrok: Opening tunnel named: http-80-afbfb9aa-e0bc-4607-a2b1-be2a5cf68c96\n",
            "INFO:pyngrok.process.ngrok:t=2022-07-27T09:58:08+0000 lvl=info msg=\"no configuration paths supplied\"\n",
            "2022-07-27 09:58:08.348 INFO    pyngrok.process.ngrok: t=2022-07-27T09:58:08+0000 lvl=info msg=\"no configuration paths supplied\"\n",
            "INFO:pyngrok.process.ngrok:t=2022-07-27T09:58:08+0000 lvl=info msg=\"using configuration at default config path\" path=/root/.ngrok2/ngrok.yml\n",
            "2022-07-27 09:58:08.365 INFO    pyngrok.process.ngrok: t=2022-07-27T09:58:08+0000 lvl=info msg=\"using configuration at default config path\" path=/root/.ngrok2/ngrok.yml\n",
            "INFO:pyngrok.process.ngrok:t=2022-07-27T09:58:08+0000 lvl=info msg=\"open config file\" path=/root/.ngrok2/ngrok.yml err=nil\n",
            "2022-07-27 09:58:08.375 INFO    pyngrok.process.ngrok: t=2022-07-27T09:58:08+0000 lvl=info msg=\"open config file\" path=/root/.ngrok2/ngrok.yml err=nil\n",
            "INFO:pyngrok.process.ngrok:t=2022-07-27T09:58:08+0000 lvl=info msg=\"starting web service\" obj=web addr=127.0.0.1:4040\n",
            "2022-07-27 09:58:08.397 INFO    pyngrok.process.ngrok: t=2022-07-27T09:58:08+0000 lvl=info msg=\"starting web service\" obj=web addr=127.0.0.1:4040\n",
            "INFO:pyngrok.process.ngrok:t=2022-07-27T09:58:08+0000 lvl=info msg=\"tunnel session started\" obj=tunnels.session\n",
            "2022-07-27 09:58:08.545 INFO    pyngrok.process.ngrok: t=2022-07-27T09:58:08+0000 lvl=info msg=\"tunnel session started\" obj=tunnels.session\n",
            "INFO:pyngrok.process.ngrok:t=2022-07-27T09:58:08+0000 lvl=info msg=\"client session established\" obj=csess id=f2bc4f817616\n",
            "2022-07-27 09:58:08.552 INFO    pyngrok.process.ngrok: t=2022-07-27T09:58:08+0000 lvl=info msg=\"client session established\" obj=csess id=f2bc4f817616\n",
            "INFO:pyngrok.process.ngrok:t=2022-07-27T09:58:08+0000 lvl=info msg=start pg=/api/tunnels id=9b40d706224c77ed\n",
            "2022-07-27 09:58:08.589 INFO    pyngrok.process.ngrok: t=2022-07-27T09:58:08+0000 lvl=info msg=start pg=/api/tunnels id=9b40d706224c77ed\n",
            "INFO:pyngrok.process.ngrok:t=2022-07-27T09:58:08+0000 lvl=info msg=end pg=/api/tunnels id=9b40d706224c77ed status=200 dur=437.283µs\n",
            "2022-07-27 09:58:08.614 INFO    pyngrok.process.ngrok: t=2022-07-27T09:58:08+0000 lvl=info msg=end pg=/api/tunnels id=9b40d706224c77ed status=200 dur=437.283µs\n",
            "INFO:pyngrok.process.ngrok:t=2022-07-27T09:58:08+0000 lvl=info msg=start pg=/api/tunnels id=33231a3e9139841d\n",
            "2022-07-27 09:58:08.631 INFO    pyngrok.process.ngrok: t=2022-07-27T09:58:08+0000 lvl=info msg=start pg=/api/tunnels id=33231a3e9139841d\n",
            "INFO:pyngrok.process.ngrok:t=2022-07-27T09:58:08+0000 lvl=info msg=end pg=/api/tunnels id=33231a3e9139841d status=200 dur=156.013µs\n",
            "2022-07-27 09:58:08.646 INFO    pyngrok.process.ngrok: t=2022-07-27T09:58:08+0000 lvl=info msg=end pg=/api/tunnels id=33231a3e9139841d status=200 dur=156.013µs\n",
            "INFO:pyngrok.process.ngrok:t=2022-07-27T09:58:08+0000 lvl=info msg=start pg=/api/tunnels id=963c66fc5ac3002e\n",
            "2022-07-27 09:58:08.658 INFO    pyngrok.process.ngrok: t=2022-07-27T09:58:08+0000 lvl=info msg=start pg=/api/tunnels id=963c66fc5ac3002e\n",
            "INFO:pyngrok.process.ngrok:t=2022-07-27T09:58:08+0000 lvl=info msg=\"started tunnel\" obj=tunnels name=\"http-80-afbfb9aa-e0bc-4607-a2b1-be2a5cf68c96 (http)\" addr=http://localhost:80 url=http://b128-34-73-3-252.ngrok.io\n",
            "2022-07-27 09:58:08.682 INFO    pyngrok.process.ngrok: t=2022-07-27T09:58:08+0000 lvl=info msg=\"started tunnel\" obj=tunnels name=\"http-80-afbfb9aa-e0bc-4607-a2b1-be2a5cf68c96 (http)\" addr=http://localhost:80 url=http://b128-34-73-3-252.ngrok.io\n",
            "INFO:pyngrok.process.ngrok:t=2022-07-27T09:58:08+0000 lvl=info msg=\"started tunnel\" obj=tunnels name=http-80-afbfb9aa-e0bc-4607-a2b1-be2a5cf68c96 addr=http://localhost:80 url=https://b128-34-73-3-252.ngrok.io\n",
            "2022-07-27 09:58:08.702 INFO    pyngrok.process.ngrok: t=2022-07-27T09:58:08+0000 lvl=info msg=\"started tunnel\" obj=tunnels name=http-80-afbfb9aa-e0bc-4607-a2b1-be2a5cf68c96 addr=http://localhost:80 url=https://b128-34-73-3-252.ngrok.io\n",
            "INFO:pyngrok.process.ngrok:t=2022-07-27T09:58:08+0000 lvl=info msg=end pg=/api/tunnels id=963c66fc5ac3002e status=201 dur=87.531636ms\n",
            "2022-07-27 09:58:08.728 INFO    pyngrok.process.ngrok: t=2022-07-27T09:58:08+0000 lvl=info msg=end pg=/api/tunnels id=963c66fc5ac3002e status=201 dur=87.531636ms\n",
            "INFO:pyngrok.process.ngrok:t=2022-07-27T09:58:08+0000 lvl=info msg=start pg=\"/api/tunnels/http-80-afbfb9aa-e0bc-4607-a2b1-be2a5cf68c96 (http)\" id=43906afa3fc14d6b\n",
            "2022-07-27 09:58:08.741 INFO    pyngrok.process.ngrok: t=2022-07-27T09:58:08+0000 lvl=info msg=start pg=\"/api/tunnels/http-80-afbfb9aa-e0bc-4607-a2b1-be2a5cf68c96 (http)\" id=43906afa3fc14d6b\n",
            "INFO:pyngrok.process.ngrok:t=2022-07-27T09:58:08+0000 lvl=info msg=end pg=\"/api/tunnels/http-80-afbfb9aa-e0bc-4607-a2b1-be2a5cf68c96 (http)\" id=43906afa3fc14d6b status=200 dur=196.67µs\n",
            "2022-07-27 09:58:08.759 INFO    pyngrok.process.ngrok: t=2022-07-27T09:58:08+0000 lvl=info msg=end pg=\"/api/tunnels/http-80-afbfb9aa-e0bc-4607-a2b1-be2a5cf68c96 (http)\" id=43906afa3fc14d6b status=200 dur=196.67µs\n"
          ]
        },
        {
          "output_type": "stream",
          "name": "stdout",
          "text": [
            "2022-07-27 09:58:10.548 INFO    numexpr.utils: NumExpr defaulting to 2 threads.\n"
          ]
        },
        {
          "output_type": "stream",
          "name": "stderr",
          "text": [
            "INFO:pyngrok.process.ngrok:t=2022-07-27T09:58:32+0000 lvl=info msg=\"join connections\" obj=join id=b88894be9aaf l=127.0.0.1:80 r=[2405:201:8010:393c:f82b:dc6c:ba10:cbc8]:62622\n",
            "2022-07-27 09:58:32.227 INFO    pyngrok.process.ngrok: t=2022-07-27T09:58:32+0000 lvl=info msg=\"join connections\" obj=join id=b88894be9aaf l=127.0.0.1:80 r=[2405:201:8010:393c:f82b:dc6c:ba10:cbc8]:62622\n",
            "INFO:pyngrok.process.ngrok:t=2022-07-27T09:58:32+0000 lvl=info msg=\"join connections\" obj=join id=f9025f140603 l=127.0.0.1:80 r=[2405:201:8010:393c:f82b:dc6c:ba10:cbc8]:62622\n",
            "2022-07-27 09:58:32.700 INFO    pyngrok.process.ngrok: t=2022-07-27T09:58:32+0000 lvl=info msg=\"join connections\" obj=join id=f9025f140603 l=127.0.0.1:80 r=[2405:201:8010:393c:f82b:dc6c:ba10:cbc8]:62622\n",
            "INFO:pyngrok.process.ngrok:t=2022-07-27T09:58:32+0000 lvl=info msg=\"join connections\" obj=join id=d27f1b8ce29c l=127.0.0.1:80 r=[2405:201:8010:393c:f82b:dc6c:ba10:cbc8]:62622\n",
            "2022-07-27 09:58:32.729 INFO    pyngrok.process.ngrok: t=2022-07-27T09:58:32+0000 lvl=info msg=\"join connections\" obj=join id=d27f1b8ce29c l=127.0.0.1:80 r=[2405:201:8010:393c:f82b:dc6c:ba10:cbc8]:62622\n",
            "INFO:pyngrok.process.ngrok:t=2022-07-27T09:58:32+0000 lvl=info msg=\"join connections\" obj=join id=c599072f70ca l=127.0.0.1:80 r=[2405:201:8010:393c:f82b:dc6c:ba10:cbc8]:62622\n",
            "2022-07-27 09:58:32.742 INFO    pyngrok.process.ngrok: t=2022-07-27T09:58:32+0000 lvl=info msg=\"join connections\" obj=join id=c599072f70ca l=127.0.0.1:80 r=[2405:201:8010:393c:f82b:dc6c:ba10:cbc8]:62622\n",
            "INFO:pyngrok.process.ngrok:t=2022-07-27T09:58:32+0000 lvl=info msg=\"join connections\" obj=join id=0c535e3186f0 l=127.0.0.1:80 r=[2405:201:8010:393c:f82b:dc6c:ba10:cbc8]:62622\n",
            "2022-07-27 09:58:32.757 INFO    pyngrok.process.ngrok: t=2022-07-27T09:58:32+0000 lvl=info msg=\"join connections\" obj=join id=0c535e3186f0 l=127.0.0.1:80 r=[2405:201:8010:393c:f82b:dc6c:ba10:cbc8]:62622\n",
            "INFO:pyngrok.process.ngrok:t=2022-07-27T09:58:32+0000 lvl=info msg=\"join connections\" obj=join id=ab6596cda9bc l=127.0.0.1:80 r=[2405:201:8010:393c:f82b:dc6c:ba10:cbc8]:62622\n",
            "2022-07-27 09:58:32.775 INFO    pyngrok.process.ngrok: t=2022-07-27T09:58:32+0000 lvl=info msg=\"join connections\" obj=join id=ab6596cda9bc l=127.0.0.1:80 r=[2405:201:8010:393c:f82b:dc6c:ba10:cbc8]:62622\n",
            "INFO:pyngrok.process.ngrok:t=2022-07-27T09:58:32+0000 lvl=info msg=\"join connections\" obj=join id=da52ebcab5c8 l=127.0.0.1:80 r=[2405:201:8010:393c:f82b:dc6c:ba10:cbc8]:62622\n",
            "2022-07-27 09:58:32.816 INFO    pyngrok.process.ngrok: t=2022-07-27T09:58:32+0000 lvl=info msg=\"join connections\" obj=join id=da52ebcab5c8 l=127.0.0.1:80 r=[2405:201:8010:393c:f82b:dc6c:ba10:cbc8]:62622\n",
            "INFO:pyngrok.process.ngrok:t=2022-07-27T09:58:32+0000 lvl=info msg=\"join connections\" obj=join id=59d747af7f95 l=127.0.0.1:80 r=[2405:201:8010:393c:f82b:dc6c:ba10:cbc8]:62622\n",
            "2022-07-27 09:58:32.837 INFO    pyngrok.process.ngrok: t=2022-07-27T09:58:32+0000 lvl=info msg=\"join connections\" obj=join id=59d747af7f95 l=127.0.0.1:80 r=[2405:201:8010:393c:f82b:dc6c:ba10:cbc8]:62622\n",
            "INFO:pyngrok.process.ngrok:t=2022-07-27T09:58:32+0000 lvl=info msg=\"join connections\" obj=join id=0cb8fa781197 l=127.0.0.1:80 r=[2405:201:8010:393c:f82b:dc6c:ba10:cbc8]:62622\n",
            "2022-07-27 09:58:32.854 INFO    pyngrok.process.ngrok: t=2022-07-27T09:58:32+0000 lvl=info msg=\"join connections\" obj=join id=0cb8fa781197 l=127.0.0.1:80 r=[2405:201:8010:393c:f82b:dc6c:ba10:cbc8]:62622\n",
            "INFO:pyngrok.process.ngrok:t=2022-07-27T09:58:32+0000 lvl=info msg=\"join connections\" obj=join id=334638452ab8 l=127.0.0.1:80 r=[2405:201:8010:393c:f82b:dc6c:ba10:cbc8]:62622\n",
            "2022-07-27 09:58:32.872 INFO    pyngrok.process.ngrok: t=2022-07-27T09:58:32+0000 lvl=info msg=\"join connections\" obj=join id=334638452ab8 l=127.0.0.1:80 r=[2405:201:8010:393c:f82b:dc6c:ba10:cbc8]:62622\n",
            "INFO:pyngrok.process.ngrok:t=2022-07-27T09:58:36+0000 lvl=info msg=\"join connections\" obj=join id=82c14e540905 l=127.0.0.1:80 r=[2405:201:8010:393c:f82b:dc6c:ba10:cbc8]:62628\n",
            "2022-07-27 09:58:36.815 INFO    pyngrok.process.ngrok: t=2022-07-27T09:58:36+0000 lvl=info msg=\"join connections\" obj=join id=82c14e540905 l=127.0.0.1:80 r=[2405:201:8010:393c:f82b:dc6c:ba10:cbc8]:62628\n"
          ]
        },
        {
          "output_type": "stream",
          "name": "stdout",
          "text": [
            "2022-07-27 09:58:41.843486: E tensorflow/stream_executor/cuda/cuda_driver.cc:271] failed call to cuInit: CUDA_ERROR_NO_DEVICE: no CUDA-capable device is detected\n",
            "textsummarizer.py:96: FutureWarning: Possible nested set at position 3\n",
            "  article_text = re.sub(r'\\\\[[0-9]*\\\\]', ' ',article_text)\n"
          ]
        },
        {
          "output_type": "stream",
          "name": "stderr",
          "text": [
            "INFO:pyngrok.process.ngrok:t=2022-07-27T09:58:44+0000 lvl=info msg=\"join connections\" obj=join id=18eb29f98e95 l=127.0.0.1:80 r=[2405:201:8010:393c:f82b:dc6c:ba10:cbc8]:62630\n",
            "2022-07-27 09:58:44.417 INFO    pyngrok.process.ngrok: t=2022-07-27T09:58:44+0000 lvl=info msg=\"join connections\" obj=join id=18eb29f98e95 l=127.0.0.1:80 r=[2405:201:8010:393c:f82b:dc6c:ba10:cbc8]:62630\n",
            "INFO:pyngrok.process.ngrok:t=2022-07-27T09:58:45+0000 lvl=info msg=\"join connections\" obj=join id=cb8ca249ea3a l=127.0.0.1:80 r=[2405:201:8010:393c:f82b:dc6c:ba10:cbc8]:62630\n",
            "2022-07-27 09:58:45.016 INFO    pyngrok.process.ngrok: t=2022-07-27T09:58:45+0000 lvl=info msg=\"join connections\" obj=join id=cb8ca249ea3a l=127.0.0.1:80 r=[2405:201:8010:393c:f82b:dc6c:ba10:cbc8]:62630\n"
          ]
        }
      ]
    }
  ]
}